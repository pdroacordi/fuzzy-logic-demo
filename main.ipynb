{
 "cells": [
  {
   "metadata": {},
   "cell_type": "markdown",
   "source": [
    "## Tip Analysis with Fuzzy Logic\n",
    "\n",
    "This notebook serves as a practical guide to fuzzy logic by applying it to a real-world example: deciding the amount of a tip based on two factors - service quality and food quality. Fuzzy logic provides a way to handle values that are not simply true or false, making it ideal for modeling situations with intermediate or vague conditions.\n",
    "\n",
    "\n",
    "## Input\n",
    "* Service: How would you rate the service, from 0 to 10? (bad, decent, great)\n",
    "* Food: How would you rate the food taste, from 0 to 10? (bad, good, tasty)\n",
    "\n",
    "## Output\n",
    "\n",
    "* Tip: How would you tip, between 0% and 20%? (low, medium, high)\n",
    "\n",
    "## Rules\n",
    "\n",
    "* If the quality of the food is bad or the service is bad, then the tip will be low;\n",
    "* If the service is decent then the tip will be medium;\n",
    "* If the service is good and the quality of the food is good, then the tip will be high."
   ],
   "id": "3d97fcb68c0854b6"
  },
  {
   "cell_type": "code",
   "id": "initial_id",
   "metadata": {
    "collapsed": true,
    "ExecuteTime": {
     "end_time": "2024-10-09T19:58:02.880865Z",
     "start_time": "2024-10-09T19:58:02.870933Z"
    }
   },
   "source": [
    "import numpy as np\n",
    "import skfuzzy as fuzz\n",
    "from skfuzzy import control as ctrl"
   ],
   "outputs": [],
   "execution_count": 34
  },
  {
   "metadata": {},
   "cell_type": "markdown",
   "source": "# Antecedent and Consequent ",
   "id": "5c939fd600febb13"
  },
  {
   "metadata": {
    "ExecuteTime": {
     "end_time": "2024-10-09T18:28:57.909271Z",
     "start_time": "2024-10-09T18:28:57.899179Z"
    }
   },
   "cell_type": "code",
   "source": [
    "quality = ctrl.Antecedent(np.arange(0,11, 1), 'quality')\n",
    "service = ctrl.Antecedent(np.arange(0,11,1), 'service')"
   ],
   "id": "4d754a1020150ecb",
   "outputs": [],
   "execution_count": 13
  },
  {
   "metadata": {
    "ExecuteTime": {
     "end_time": "2024-10-09T19:39:08.387265Z",
     "start_time": "2024-10-09T19:39:08.380564Z"
    }
   },
   "cell_type": "code",
   "source": "tip = ctrl.Consequent(np.arange(0,21,1), 'tip')\n",
   "id": "c4144d3d4346db34",
   "outputs": [],
   "execution_count": 25
  },
  {
   "metadata": {},
   "cell_type": "markdown",
   "source": "# Member functions",
   "id": "3bbffad624cb7657"
  },
  {
   "metadata": {
    "ExecuteTime": {
     "end_time": "2024-10-09T19:32:42.172258Z",
     "start_time": "2024-10-09T19:32:42.160508Z"
    }
   },
   "cell_type": "code",
   "source": [
    "quality.automf(number=3, names=['bad', 'good', 'tasty'])\n",
    "service.automf(number=3, names=['bad', 'decent', 'great'])"
   ],
   "id": "1a91ae412cf13406",
   "outputs": [],
   "execution_count": 23
  },
  {
   "metadata": {
    "ExecuteTime": {
     "end_time": "2024-10-09T19:39:15.277870Z",
     "start_time": "2024-10-09T19:39:15.271007Z"
    }
   },
   "cell_type": "code",
   "source": [
    "tip['low']    = fuzz.trimf(tip.universe, [0,0,8])\n",
    "tip['medium'] = fuzz.trimf(tip.universe, [2,10,18])\n",
    "tip['high']   = fuzz.trimf(tip.universe, [12,20,20])"
   ],
   "id": "eb1758c80868c72",
   "outputs": [],
   "execution_count": 27
  },
  {
   "metadata": {
    "ExecuteTime": {
     "end_time": "2024-10-09T19:48:38.630096Z",
     "start_time": "2024-10-09T19:48:38.625659Z"
    }
   },
   "cell_type": "code",
   "source": [
    "rule_one = ctrl.Rule(quality['bad'] | service['bad'], tip['low'])\n",
    "rule_two = ctrl.Rule(service['decent'], tip['medium'])\n",
    "rule_three = ctrl.Rule(service['great'] | quality['tasty'], tip['high'])\n"
   ],
   "id": "a5675ee7455fed4",
   "outputs": [],
   "execution_count": 28
  },
  {
   "metadata": {},
   "cell_type": "markdown",
   "source": "# Control System",
   "id": "6a3bcd6cfcf47a86"
  },
  {
   "metadata": {
    "ExecuteTime": {
     "end_time": "2024-10-09T19:53:07.928661Z",
     "start_time": "2024-10-09T19:53:07.913658Z"
    }
   },
   "cell_type": "code",
   "source": "control_system = ctrl.ControlSystem([rule_one, rule_two, rule_three])",
   "id": "acca0ab9154ed199",
   "outputs": [],
   "execution_count": 29
  },
  {
   "metadata": {
    "ExecuteTime": {
     "end_time": "2024-10-09T19:53:41.480258Z",
     "start_time": "2024-10-09T19:53:41.475379Z"
    }
   },
   "cell_type": "code",
   "source": "system = ctrl.ControlSystemSimulation(control_system)",
   "id": "69039f3c6a9e9739",
   "outputs": [],
   "execution_count": 30
  },
  {
   "metadata": {
    "ExecuteTime": {
     "end_time": "2024-10-09T20:01:02.760532Z",
     "start_time": "2024-10-09T20:01:02.741639Z"
    }
   },
   "cell_type": "code",
   "source": [
    "system.input['quality'] = 10\n",
    "system.input['service'] = 10\n",
    "\n",
    "system.compute()"
   ],
   "id": "b305ae1a555ab6cd",
   "outputs": [],
   "execution_count": 36
  },
  {
   "metadata": {
    "ExecuteTime": {
     "end_time": "2024-10-09T20:01:05.447419Z",
     "start_time": "2024-10-09T20:01:05.436901Z"
    }
   },
   "cell_type": "code",
   "source": "print(system.output['tip'])\n",
   "id": "b621bb78539c1230",
   "outputs": [
    {
     "name": "stdout",
     "output_type": "stream",
     "text": [
      "17.333333333333332\n"
     ]
    }
   ],
   "execution_count": 37
  }
 ],
 "metadata": {
  "kernelspec": {
   "display_name": "Python 3",
   "language": "python",
   "name": "python3"
  },
  "language_info": {
   "codemirror_mode": {
    "name": "ipython",
    "version": 2
   },
   "file_extension": ".py",
   "mimetype": "text/x-python",
   "name": "python",
   "nbconvert_exporter": "python",
   "pygments_lexer": "ipython2",
   "version": "2.7.6"
  }
 },
 "nbformat": 4,
 "nbformat_minor": 5
}
